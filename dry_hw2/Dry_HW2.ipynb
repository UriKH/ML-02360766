{
 "cells": [
  {
   "cell_type": "code",
   "execution_count": 2,
   "id": "3762f30f",
   "metadata": {},
   "outputs": [],
   "source": [
    "from math import log2"
   ]
  },
  {
   "cell_type": "code",
   "execution_count": 3,
   "id": "a4c7c15b",
   "metadata": {},
   "outputs": [],
   "source": [
    "def H(pv):\n",
    "    return -pv * (0 if pv == 0 else log2(pv)) - (1 - pv) * (0 if 1-pv == 0 else log2(1 - pv))\n",
    "\n",
    "def IG_diff(vat, vaf, pvt, pvf):\n",
    "    return -vat * H(pvt) - vaf * H(pvf)\n"
   ]
  },
  {
   "cell_type": "code",
   "execution_count": 18,
   "id": "6459070d",
   "metadata": {},
   "outputs": [
    {
     "data": {
      "text/plain": [
       "-0.6887218755408672"
      ]
     },
     "execution_count": 18,
     "metadata": {},
     "output_type": "execute_result"
    }
   ],
   "source": [
    "# A - split 1\n",
    "IG_diff(0.75, 0.25, 2/3, 1)"
   ]
  },
  {
   "cell_type": "code",
   "execution_count": 19,
   "id": "0affd172",
   "metadata": {},
   "outputs": [
    {
     "data": {
      "text/plain": [
       "-1.0"
      ]
     },
     "execution_count": 19,
     "metadata": {},
     "output_type": "execute_result"
    }
   ],
   "source": [
    "# B - split 1\n",
    "IG_diff(0.5, 0.5, 0.5, 0.5)"
   ]
  },
  {
   "cell_type": "code",
   "execution_count": 20,
   "id": "2bebc839",
   "metadata": {},
   "outputs": [
    {
     "data": {
      "text/plain": [
       "-1.0"
      ]
     },
     "execution_count": 20,
     "metadata": {},
     "output_type": "execute_result"
    }
   ],
   "source": [
    "# C - split 1\n",
    "IG_diff(0.5, 0.5, 0.5, 0.5)"
   ]
  },
  {
   "cell_type": "code",
   "execution_count": 21,
   "id": "d0f55a00",
   "metadata": {},
   "outputs": [
    {
     "data": {
      "text/plain": [
       "-0.612197222702993"
      ]
     },
     "execution_count": 21,
     "metadata": {},
     "output_type": "execute_result"
    }
   ],
   "source": [
    "# B - split 2 for A=true\n",
    "IG_diff(2/3, 1/3, 1/3, 0)"
   ]
  },
  {
   "cell_type": "code",
   "execution_count": 22,
   "id": "956363bc",
   "metadata": {},
   "outputs": [
    {
     "data": {
      "text/plain": [
       "-0.9182958340544896"
      ]
     },
     "execution_count": 22,
     "metadata": {},
     "output_type": "execute_result"
    }
   ],
   "source": [
    "# C - split 2 for A=true\n",
    "IG_diff(1/3, 2/3, 1/3, 1/3)"
   ]
  },
  {
   "cell_type": "code",
   "execution_count": 6,
   "id": "cbc32b68",
   "metadata": {},
   "outputs": [
    {
     "data": {
      "text/plain": [
       "-0.6666666666666666"
      ]
     },
     "execution_count": 6,
     "metadata": {},
     "output_type": "execute_result"
    }
   ],
   "source": [
    "IG_diff(1/3, 2/3, 1, 1/2)"
   ]
  },
  {
   "cell_type": "code",
   "execution_count": null,
   "id": "3bf1ffba",
   "metadata": {},
   "outputs": [],
   "source": []
  }
 ],
 "metadata": {
  "kernelspec": {
   "display_name": "venv",
   "language": "python",
   "name": "python3"
  },
  "language_info": {
   "codemirror_mode": {
    "name": "ipython",
    "version": 3
   },
   "file_extension": ".py",
   "mimetype": "text/x-python",
   "name": "python",
   "nbconvert_exporter": "python",
   "pygments_lexer": "ipython3",
   "version": "3.11.7"
  }
 },
 "nbformat": 4,
 "nbformat_minor": 5
}
